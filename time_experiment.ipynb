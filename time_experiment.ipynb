{
 "cells": [
  {
   "cell_type": "code",
   "execution_count": 1,
   "id": "66242e35-a172-4a40-b084-012c124d74a6",
   "metadata": {},
   "outputs": [],
   "source": [
    "import numpy as np\n",
    "import pandas as pd\n",
    "\n",
    "from utils.learnedbloomfilter import LearnedModel, LearnedBloomFilter\n",
    "from utils.timer import Timer\n",
    "\n",
    "import torch\n",
    "\n",
    "from tqdm import tqdm, trange\n",
    "\n",
    "import time\n",
    "\n",
    "import matplotlib.pyplot as plt\n",
    "import seaborn as sns\n",
    "sns.set()"
   ]
  },
  {
   "cell_type": "code",
   "execution_count": 2,
   "id": "5ca8cbad-c4ac-49cb-888e-59a4513aa888",
   "metadata": {},
   "outputs": [
    {
     "data": {
      "text/html": [
       "<div>\n",
       "<style scoped>\n",
       "    .dataframe tbody tr th:only-of-type {\n",
       "        vertical-align: middle;\n",
       "    }\n",
       "\n",
       "    .dataframe tbody tr th {\n",
       "        vertical-align: top;\n",
       "    }\n",
       "\n",
       "    .dataframe thead th {\n",
       "        text-align: right;\n",
       "    }\n",
       "</style>\n",
       "<table border=\"1\" class=\"dataframe\">\n",
       "  <thead>\n",
       "    <tr style=\"text-align: right;\">\n",
       "      <th></th>\n",
       "      <th>integer</th>\n",
       "      <th>label</th>\n",
       "    </tr>\n",
       "  </thead>\n",
       "  <tbody>\n",
       "    <tr>\n",
       "      <th>0</th>\n",
       "      <td>65552</td>\n",
       "      <td>1</td>\n",
       "    </tr>\n",
       "    <tr>\n",
       "      <th>1</th>\n",
       "      <td>65553</td>\n",
       "      <td>1</td>\n",
       "    </tr>\n",
       "    <tr>\n",
       "      <th>2</th>\n",
       "      <td>65554</td>\n",
       "      <td>1</td>\n",
       "    </tr>\n",
       "    <tr>\n",
       "      <th>3</th>\n",
       "      <td>65555</td>\n",
       "      <td>1</td>\n",
       "    </tr>\n",
       "    <tr>\n",
       "      <th>4</th>\n",
       "      <td>65556</td>\n",
       "      <td>1</td>\n",
       "    </tr>\n",
       "  </tbody>\n",
       "</table>\n",
       "</div>"
      ],
      "text/plain": [
       "   integer  label\n",
       "0    65552      1\n",
       "1    65553      1\n",
       "2    65554      1\n",
       "3    65555      1\n",
       "4    65556      1"
      ]
     },
     "execution_count": 2,
     "metadata": {},
     "output_type": "execute_result"
    }
   ],
   "source": [
    "dataset = pd.read_csv('data/Japan_dataset_octet_3.csv')\n",
    "dataset.head()"
   ]
  },
  {
   "cell_type": "markdown",
   "id": "a6e30237-06db-4ef4-be8a-a9378a2555b9",
   "metadata": {},
   "source": [
    "### LEARNED BLOOM FILTER"
   ]
  },
  {
   "cell_type": "code",
   "execution_count": 3,
   "id": "4798a142-dc39-401c-b2bd-5a1e5f05334c",
   "metadata": {},
   "outputs": [
    {
     "data": {
      "text/plain": [
       "<All keys matched successfully>"
      ]
     },
     "execution_count": 3,
     "metadata": {},
     "output_type": "execute_result"
    }
   ],
   "source": [
    "## LOAD MODEL\n",
    "model_in = 24\n",
    "model_arch = [model_in, 256, 128, 64, 32]\n",
    "model_out = 1\n",
    "\n",
    "model = torch.nn.Sequential()\n",
    "for i in range(1, len(model_arch)):\n",
    "    model.append(torch.nn.Linear(model_arch[i - 1], model_arch[i]))\n",
    "    model.append(torch.nn.ReLU())\n",
    "model.append(torch.nn.Linear(model_arch[-1], model_out))\n",
    "\n",
    "model.load_state_dict(torch.load(\"saved_model/Japan_256_128_64_32_fp_4430.pth\"))"
   ]
  },
  {
   "cell_type": "code",
   "execution_count": 4,
   "id": "93b3ff89-9274-4803-9d9d-9cea1c2489a5",
   "metadata": {},
   "outputs": [],
   "source": [
    "positives = dataset[dataset.label == 1].integer.to_numpy()"
   ]
  },
  {
   "cell_type": "code",
   "execution_count": 5,
   "id": "c146d4c7-e56b-4dd1-9569-128ed48727a0",
   "metadata": {},
   "outputs": [],
   "source": [
    "device = \"cpu\"\n",
    "input_size = 24\n",
    "lm = LearnedModel(model=model, input_size=input_size, device=device)\n",
    "\n",
    "fpr = 0.01\n",
    "lbf = LearnedBloomFilter(lm=lm, fpr=fpr, positives=positives)"
   ]
  },
  {
   "cell_type": "markdown",
   "id": "a43b71a2-5dc2-4a35-826f-a9bf02be4813",
   "metadata": {},
   "source": [
    "### TIME ANALYSIS"
   ]
  },
  {
   "cell_type": "code",
   "execution_count": 6,
   "id": "4dc1d14d-cfda-490d-abc9-d2dfb1df19e0",
   "metadata": {},
   "outputs": [],
   "source": [
    "rng = np.random.default_rng()\n",
    "\n",
    "n_test = 100_000\n",
    "test_set = rng.choice(2**24, size=n_test, replace=False)"
   ]
  },
  {
   "cell_type": "code",
   "execution_count": 7,
   "id": "737f7cdd-6ff6-42a2-b110-35aabb7e2191",
   "metadata": {},
   "outputs": [],
   "source": [
    "color = {\n",
    "    'integer' : [],\n",
    "    'time' : [],\n",
    "    'lbf_label' : [],\n",
    "    'internal_label' : [],\n",
    "}"
   ]
  },
  {
   "cell_type": "code",
   "execution_count": 8,
   "id": "46940c72-86dc-4f43-a416-b24022edd3cd",
   "metadata": {},
   "outputs": [
    {
     "name": "stderr",
     "output_type": "stream",
     "text": [
      "100%|████████████████████████████████| 100000/100000 [00:08<00:00, 11166.87it/s]\n"
     ]
    }
   ],
   "source": [
    "# TEST_SET\n",
    "color['integer'] = test_set\n",
    "\n",
    "# PREDICTIONS FROM LBF\n",
    "lbf_labels = lbf.query(test_set)\n",
    "color['lbf_label'] = lbf_labels\n",
    "\n",
    "\n",
    "color['internal_label'] = []\n",
    "# WHITE BOX ACCESS PREDICTIONS\n",
    "for test_val in tqdm(test_set):\n",
    "    _pred = lbf.lm.predict(test_val)[0]\n",
    "    if _pred:\n",
    "        internal_label = 'FT'\n",
    "    elif lbf.bfilter.query(test_val):\n",
    "        internal_label = 'ST'\n",
    "    else:\n",
    "        internal_label = 'SF'\n",
    "    color['internal_label'].append(internal_label)"
   ]
  },
  {
   "cell_type": "code",
   "execution_count": 9,
   "id": "da205294-e6e1-42b0-a785-f35fda00e6e8",
   "metadata": {},
   "outputs": [
    {
     "name": "stdout",
     "output_type": "stream",
     "text": [
      "Elapsed Time: 9.7220\n"
     ]
    }
   ],
   "source": [
    "# TIME ANALYSIS\n",
    "\n",
    "func = time.clock_gettime_ns\n",
    "args = time.CLOCK_MONOTONIC_RAW\n",
    "timer = Timer(func, args)\n",
    "\n",
    "start_time = time.time()\n",
    "\n",
    "# SF_TIMES = 10\n",
    "# FT_TIMES = 100\n",
    "\n",
    "SF_TIMES = 1\n",
    "FT_TIMES = 1\n",
    "\n",
    "color['time'] = []\n",
    "\n",
    "for i in range(n_test):\n",
    "    \n",
    "    if lbf_labels[i] == 0:\n",
    "        TIMES = SF_TIMES\n",
    "    else:\n",
    "        TIMES = FT_TIMES\n",
    "        \n",
    "    for times in range(TIMES):\n",
    "        timer.start()\n",
    "        lbf.query(test_set[i])\n",
    "        timer.stop()\n",
    "        \n",
    "    color['time'].append(timer.average())\n",
    "    timer.reset()\n",
    "\n",
    "print(f'Elapsed Time: {(time.time() - start_time):.4f}')"
   ]
  },
  {
   "cell_type": "code",
   "execution_count": 11,
   "id": "4f4754f6-74d0-4780-8423-8a2e20fd9386",
   "metadata": {},
   "outputs": [],
   "source": [
    "color_df = pd.DataFrame(color)\n",
    "color_df.to_csv('results/Japan_octect_3_time_100k_final.csv', index=None)"
   ]
  }
 ],
 "metadata": {
  "kernelspec": {
   "display_name": "Python 3 (ipykernel)",
   "language": "python",
   "name": "python3"
  },
  "language_info": {
   "codemirror_mode": {
    "name": "ipython",
    "version": 3
   },
   "file_extension": ".py",
   "mimetype": "text/x-python",
   "name": "python",
   "nbconvert_exporter": "python",
   "pygments_lexer": "ipython3",
   "version": "3.10.12"
  }
 },
 "nbformat": 4,
 "nbformat_minor": 5
}
