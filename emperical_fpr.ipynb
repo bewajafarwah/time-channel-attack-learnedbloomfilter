{
 "cells": [
  {
   "cell_type": "code",
   "execution_count": 1,
   "id": "a2371c0c-205e-4645-8d6b-9c9d27a93ccb",
   "metadata": {},
   "outputs": [],
   "source": [
    "import numpy as np\n",
    "import pandas as pd\n",
    "\n",
    "from utils.learnedbloomfilter import LearnedModel, LearnedBloomFilter\n",
    "\n",
    "import torch\n",
    "\n",
    "from tqdm import tqdm, trange"
   ]
  },
  {
   "cell_type": "code",
   "execution_count": 2,
   "id": "8cb8cb4c-b817-4e09-ae7d-f86653c66606",
   "metadata": {},
   "outputs": [
    {
     "data": {
      "text/html": [
       "<div>\n",
       "<style scoped>\n",
       "    .dataframe tbody tr th:only-of-type {\n",
       "        vertical-align: middle;\n",
       "    }\n",
       "\n",
       "    .dataframe tbody tr th {\n",
       "        vertical-align: top;\n",
       "    }\n",
       "\n",
       "    .dataframe thead th {\n",
       "        text-align: right;\n",
       "    }\n",
       "</style>\n",
       "<table border=\"1\" class=\"dataframe\">\n",
       "  <thead>\n",
       "    <tr style=\"text-align: right;\">\n",
       "      <th></th>\n",
       "      <th>integer</th>\n",
       "      <th>label</th>\n",
       "    </tr>\n",
       "  </thead>\n",
       "  <tbody>\n",
       "    <tr>\n",
       "      <th>0</th>\n",
       "      <td>65552</td>\n",
       "      <td>1</td>\n",
       "    </tr>\n",
       "    <tr>\n",
       "      <th>1</th>\n",
       "      <td>65553</td>\n",
       "      <td>1</td>\n",
       "    </tr>\n",
       "    <tr>\n",
       "      <th>2</th>\n",
       "      <td>65554</td>\n",
       "      <td>1</td>\n",
       "    </tr>\n",
       "    <tr>\n",
       "      <th>3</th>\n",
       "      <td>65555</td>\n",
       "      <td>1</td>\n",
       "    </tr>\n",
       "    <tr>\n",
       "      <th>4</th>\n",
       "      <td>65556</td>\n",
       "      <td>1</td>\n",
       "    </tr>\n",
       "    <tr>\n",
       "      <th>...</th>\n",
       "      <td>...</td>\n",
       "      <td>...</td>\n",
       "    </tr>\n",
       "    <tr>\n",
       "      <th>1893236</th>\n",
       "      <td>14187820</td>\n",
       "      <td>0</td>\n",
       "    </tr>\n",
       "    <tr>\n",
       "      <th>1893237</th>\n",
       "      <td>15423251</td>\n",
       "      <td>0</td>\n",
       "    </tr>\n",
       "    <tr>\n",
       "      <th>1893238</th>\n",
       "      <td>15193767</td>\n",
       "      <td>0</td>\n",
       "    </tr>\n",
       "    <tr>\n",
       "      <th>1893239</th>\n",
       "      <td>9174177</td>\n",
       "      <td>0</td>\n",
       "    </tr>\n",
       "    <tr>\n",
       "      <th>1893240</th>\n",
       "      <td>13572989</td>\n",
       "      <td>0</td>\n",
       "    </tr>\n",
       "  </tbody>\n",
       "</table>\n",
       "<p>1893241 rows × 2 columns</p>\n",
       "</div>"
      ],
      "text/plain": [
       "          integer  label\n",
       "0           65552      1\n",
       "1           65553      1\n",
       "2           65554      1\n",
       "3           65555      1\n",
       "4           65556      1\n",
       "...           ...    ...\n",
       "1893236  14187820      0\n",
       "1893237  15423251      0\n",
       "1893238  15193767      0\n",
       "1893239   9174177      0\n",
       "1893240  13572989      0\n",
       "\n",
       "[1893241 rows x 2 columns]"
      ]
     },
     "execution_count": 2,
     "metadata": {},
     "output_type": "execute_result"
    }
   ],
   "source": [
    "dataset = pd.read_csv('data/Japan_dataset_octet_3.csv')\n",
    "dataset"
   ]
  },
  {
   "cell_type": "code",
   "execution_count": 3,
   "id": "f65ee9b3-4c19-4982-955d-d59a224e6eea",
   "metadata": {},
   "outputs": [
    {
     "data": {
      "text/plain": [
       "<All keys matched successfully>"
      ]
     },
     "execution_count": 3,
     "metadata": {},
     "output_type": "execute_result"
    }
   ],
   "source": [
    "## LOAD MODEL\n",
    "\n",
    "model_in = 24\n",
    "model_arch = [model_in, 256, 128, 64, 32]\n",
    "model_out = 1\n",
    "\n",
    "model = torch.nn.Sequential()\n",
    "for i in range(1, len(model_arch)):\n",
    "    model.append(torch.nn.Linear(model_arch[i - 1], model_arch[i]))\n",
    "    model.append(torch.nn.ReLU())\n",
    "model.append(torch.nn.Linear(model_arch[-1], model_out))\n",
    "\n",
    "model.load_state_dict(torch.load(\"saved_model/Japan_256_128_64_32_fp_4430.pth\"))"
   ]
  },
  {
   "cell_type": "code",
   "execution_count": 4,
   "id": "15a82cf3-5ad9-4f36-ba37-809d51e50d0e",
   "metadata": {},
   "outputs": [],
   "source": [
    "positives = dataset[dataset.label == 1].integer.to_numpy()"
   ]
  },
  {
   "cell_type": "code",
   "execution_count": 5,
   "id": "37864168-906e-4748-9ae3-74587fc42b7c",
   "metadata": {},
   "outputs": [],
   "source": [
    "device = \"cpu\"\n",
    "input_size = 24\n",
    "lm = LearnedModel(model=model, input_size=input_size, device=device)\n",
    "\n",
    "fpr = 0.01\n",
    "lbf = LearnedBloomFilter(lm=lm, fpr=fpr, positives=positives)"
   ]
  },
  {
   "cell_type": "code",
   "execution_count": 6,
   "id": "1234eb59-e425-44ff-bae5-219123c28522",
   "metadata": {},
   "outputs": [
    {
     "data": {
      "text/plain": [
       "12674"
      ]
     },
     "execution_count": 6,
     "metadata": {},
     "output_type": "execute_result"
    }
   ],
   "source": [
    "lbf.n_bfilter"
   ]
  },
  {
   "cell_type": "markdown",
   "id": "5632888a-a35c-41c0-beec-1452ef37fc53",
   "metadata": {},
   "source": [
    "### FPR ANALYSIS"
   ]
  },
  {
   "cell_type": "code",
   "execution_count": 7,
   "id": "c64f47e6-60da-4646-8c4a-83464fba640d",
   "metadata": {},
   "outputs": [],
   "source": [
    "l = 2**24\n",
    "universe = np.arange(l)\n",
    "preds = np.zeros(l)"
   ]
  },
  {
   "cell_type": "code",
   "execution_count": 8,
   "id": "a9f7d1dc-c02b-4811-843d-953aba80e4ca",
   "metadata": {},
   "outputs": [],
   "source": [
    "labels = np.zeros(l)\n",
    "labels[positives] = 1"
   ]
  },
  {
   "cell_type": "code",
   "execution_count": 9,
   "id": "ae2f279b-d234-4aa1-a2e5-f52c6fe506ec",
   "metadata": {},
   "outputs": [
    {
     "name": "stderr",
     "output_type": "stream",
     "text": [
      "100%|████████████████████████████████████| 16384/16384 [01:25<00:00, 191.50it/s]\n"
     ]
    }
   ],
   "source": [
    "batch_size = 1024\n",
    "\n",
    "for i in trange(0, len(universe), batch_size):\n",
    "    start = i\n",
    "    end = min(i + batch_size, len(universe))\n",
    "    inputs = universe[i : i + batch_size]\n",
    "    outputs = lbf.query(inputs)\n",
    "    preds[i: i + batch_size] = outputs"
   ]
  },
  {
   "cell_type": "code",
   "execution_count": 10,
   "id": "03b5961e-fa08-4666-ba50-df9a6845c45c",
   "metadata": {},
   "outputs": [],
   "source": [
    "import sklearn.metrics as skm"
   ]
  },
  {
   "cell_type": "code",
   "execution_count": 11,
   "id": "54abd590-299f-4c38-8b64-5280999b7fa8",
   "metadata": {},
   "outputs": [],
   "source": [
    "tn, fp, fn, tp = skm.confusion_matrix(labels, preds).ravel()"
   ]
  },
  {
   "cell_type": "code",
   "execution_count": 12,
   "id": "3953c597-8e1b-4e33-9364-24d88ffddf60",
   "metadata": {},
   "outputs": [],
   "source": [
    "fpr = (fp / (fp + tn)) * 100\n",
    "precision = tp / (tp + fp)\n",
    "recall = tp / (tp + fn)\n",
    "accuracy = (tp + tn) / (tp + tn + fp + fn)\n",
    "f1 = (2 * (precision * recall)) / (precision + recall)"
   ]
  },
  {
   "cell_type": "code",
   "execution_count": 13,
   "id": "94aa9abb-b5a9-4e24-8a8e-67fd8d0e5c2f",
   "metadata": {},
   "outputs": [
    {
     "name": "stdout",
     "output_type": "stream",
     "text": [
      "FALSE POSITIVE RATE: 1.4673%\n",
      "Recall : 1.0, Precision : 0.7684516722775862, f1: 0.8690672007880186\n",
      "Accuracy : 0.9860082268714905\n"
     ]
    }
   ],
   "source": [
    "print(f'FALSE POSITIVE RATE: {fpr:.4f}%')\n",
    "print(f'Recall : {recall}, Precision : {precision}, f1: {f1}')\n",
    "print(f'Accuracy : {accuracy}')"
   ]
  },
  {
   "cell_type": "code",
   "execution_count": null,
   "id": "e16e156f-c67d-4dc5-8820-6ca3163d1fa3",
   "metadata": {},
   "outputs": [],
   "source": [
    "tn, fp, fn, tp "
   ]
  }
 ],
 "metadata": {
  "kernelspec": {
   "display_name": "Python 3 (ipykernel)",
   "language": "python",
   "name": "python3"
  },
  "language_info": {
   "codemirror_mode": {
    "name": "ipython",
    "version": 3
   },
   "file_extension": ".py",
   "mimetype": "text/x-python",
   "name": "python",
   "nbconvert_exporter": "python",
   "pygments_lexer": "ipython3",
   "version": "3.10.12"
  }
 },
 "nbformat": 4,
 "nbformat_minor": 5
}
